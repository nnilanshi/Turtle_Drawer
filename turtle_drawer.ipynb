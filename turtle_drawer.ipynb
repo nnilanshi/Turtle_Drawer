{
 "cells": [
  {
   "cell_type": "markdown",
   "metadata": {},
   "source": [
    "# TURTLE PATTERNS"
   ]
  },
  {
   "cell_type": "markdown",
   "metadata": {},
   "source": [
    "### circle with squares"
   ]
  },
  {
   "cell_type": "code",
   "execution_count": null,
   "metadata": {
    "collapsed": true
   },
   "outputs": [],
   "source": [
    "import turtle\n",
    "def draw_square(some_turtle):\n",
    "    for i in range(1,5):\n",
    "        some_turtle.forward(100)\n",
    "        some_turtle.right(90)\n",
    "    \n",
    "def draw_art():\n",
    "    window=turtle.Screen()\n",
    "    window.bgcolor(\"red\")\n",
    "    #square drawn\n",
    "    sq=turtle.Turtle()\n",
    "    sq.color(\"yellow\")\n",
    "    sq.shape(\"turtle\")\n",
    "    sq.speed(2)\n",
    "    for i in range(1,37):\n",
    "        draw_square(sq)\n",
    "        sq.right(10)\n",
    "    #circle drawn\n",
    "    #cir=turtle.Turtle()\n",
    "    #cir.color(\"blue\")\n",
    "    #cir.circle(100)\n",
    "    \n",
    "    window.exitonclick()\n",
    "draw_art()"
   ]
  },
  {
   "cell_type": "markdown",
   "metadata": {},
   "source": [
    "### triangles inside traingle"
   ]
  },
  {
   "cell_type": "code",
   "execution_count": null,
   "metadata": {
    "collapsed": true
   },
   "outputs": [],
   "source": [
    "import turtle\n",
    "#Haha TTpro\n",
    "def draw_triangle(the_turtle,length,ori,recursion):\n",
    "    recursion=recursion+1\n",
    "    meow= the_turtle\n",
    "\n",
    "    for i in range(0,3):\n",
    "        if(recursion<4):\n",
    "        #if (0):\n",
    "            meow.forward(length/2)\n",
    "            meow.left(120)\n",
    "            draw_triangle(meow,length/2,0,recursion)\n",
    "            meow.right(120)\n",
    "            meow.forward(length/2)\n",
    "        else:\n",
    "            meow.forward(length)\n",
    "        if (ori==1):\n",
    "            meow.left(120)\n",
    "        else:\n",
    "            meow.right(120)\n",
    "\n",
    "meow = turtle.Turtle() # init\n",
    "meow.speed(10) # speed = 1 to slow turtle down\n",
    "meow.color(\"yellow\",\"green\") # set color5\n",
    "meow.shape(\"turtle\") # set shape to a turtle\n",
    "background = turtle.Screen()  # create background\n",
    "background.bgcolor(\"red\")     # set background color to red\n",
    "\n",
    "\n",
    "draw_triangle(meow,200,1,0)\n",
    "\n",
    "#meow.forward(100)\n",
    "#meow.left(120)\n",
    "#draw_triangle(meow,100,0,0)\n",
    "#meow.right(120)\n",
    "\n",
    "background.exitonclick() "
   ]
  },
  {
   "cell_type": "markdown",
   "metadata": {},
   "source": [
    "### Flower"
   ]
  },
  {
   "cell_type": "code",
   "execution_count": null,
   "metadata": {
    "collapsed": true
   },
   "outputs": [],
   "source": [
    "\n",
    "import turtle\n",
    "\n",
    "window = turtle.Screen()\n",
    "turtle.Turtle()\n",
    "turtle.bgcolor(\"red\")\n",
    "for i in range(1,37):  #draw petals\n",
    "    turtle.left(35)\n",
    "    turtle.forward(50)\n",
    "    turtle.right(35)\n",
    "    turtle.forward(50)\n",
    "    turtle.right(145)\n",
    "    turtle.forward(50)\n",
    "    turtle.right(35)\n",
    "    turtle.forward(50)\n",
    "    turtle.right(10)\n",
    "turtle.seth(270) #set heading south (270)\n",
    "turtle.forward(200) #draw the flower tail\n",
    "\n",
    "\n",
    "window.exitonclick()"
   ]
  },
  {
   "cell_type": "code",
   "execution_count": null,
   "metadata": {
    "collapsed": true
   },
   "outputs": [],
   "source": []
  },
  {
   "cell_type": "markdown",
   "metadata": {},
   "source": [
    "### letter A"
   ]
  },
  {
   "cell_type": "code",
   "execution_count": null,
   "metadata": {
    "collapsed": true
   },
   "outputs": [],
   "source": [
    "\n",
    "import turtle\n",
    "\n",
    "window = turtle.Screen()\n",
    "turtle.Turtle()\n",
    "turtle.bgcolor(\"red\")\n",
    "#for alphabet A\n",
    "turtle.pu()\n",
    "turtle.setpos(-200,0)\n",
    "turtle.pd()\n",
    "turtle.seth(0)\n",
    "turtle.left(75)\n",
    "turtle.forward(200)\n",
    "turtle.right(150)\n",
    "turtle.forward(200)\n",
    "\n",
    "turtle.right(180)\n",
    "turtle.forward(80)\n",
    "turtle.seth(180)\n",
    "turtle.forward(62)\n",
    "turtle.pu()\n",
    "\n",
    "turtle.setpos(100,0)\n",
    "turtle.pd()\n",
    "\n",
    "window.exitonclick()"
   ]
  },
  {
   "cell_type": "markdown",
   "metadata": {},
   "source": [
    "### letter M"
   ]
  },
  {
   "cell_type": "code",
   "execution_count": 1,
   "metadata": {
    "collapsed": true
   },
   "outputs": [],
   "source": [
    "\n",
    "import turtle\n",
    "\n",
    "window = turtle.Screen()\n",
    "turtle.Turtle()\n",
    "turtle.bgcolor(\"red\")\n",
    "\n",
    "#for alphabet M\n",
    "turtle.pu()  # pen up\n",
    "turtle.setpos(-300,0)\n",
    "turtle.seth(90)\n",
    "turtle.pd()\n",
    "turtle.forward(200)\n",
    "turtle.right(165)\n",
    "turtle.forward(150)\n",
    "turtle.left(150)\n",
    "turtle.forward(150)\n",
    "turtle.seth(270)\n",
    "turtle.forward(200)\n",
    "turtle.pu()\n",
    "window.exitonclick()"
   ]
  }
 ],
 "metadata": {
  "kernelspec": {
   "display_name": "Python 3",
   "language": "python",
   "name": "python3"
  },
  "language_info": {
   "codemirror_mode": {
    "name": "ipython",
    "version": 3
   },
   "file_extension": ".py",
   "mimetype": "text/x-python",
   "name": "python",
   "nbconvert_exporter": "python",
   "pygments_lexer": "ipython3",
   "version": "3.6.3"
  }
 },
 "nbformat": 4,
 "nbformat_minor": 2
}
